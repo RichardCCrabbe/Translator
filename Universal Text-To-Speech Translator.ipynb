{
 "cells": [
  {
   "cell_type": "code",
   "execution_count": 5,
   "id": "baa68fc8",
   "metadata": {
    "scrolled": true
   },
   "outputs": [
    {
     "name": "stdout",
     "output_type": "stream",
     "text": [
      "Requirement already satisfied: ibm_watson in ./.local/lib/python3.9/site-packages (6.1.0)\n",
      "Requirement already satisfied: ibm-cloud-sdk-core==3.*,>=3.3.6 in ./.local/lib/python3.9/site-packages (from ibm_watson) (3.16.2)\n",
      "Requirement already satisfied: websocket-client==1.1.0 in ./.local/lib/python3.9/site-packages (from ibm_watson) (1.1.0)\n",
      "Requirement already satisfied: python-dateutil>=2.5.3 in /usr/local/lib/python3.9/dist-packages (from ibm_watson) (2.8.2)\n",
      "Requirement already satisfied: requests<3.0,>=2.0 in ./.local/lib/python3.9/site-packages (from ibm_watson) (2.28.2)\n",
      "Requirement already satisfied: urllib3<2.0.0,>=1.26.0 in ./.local/lib/python3.9/site-packages (from ibm-cloud-sdk-core==3.*,>=3.3.6->ibm_watson) (1.26.14)\n",
      "Requirement already satisfied: PyJWT<3.0.0,>=2.4.0 in ./.local/lib/python3.9/site-packages (from ibm-cloud-sdk-core==3.*,>=3.3.6->ibm_watson) (2.6.0)\n",
      "Requirement already satisfied: six>=1.5 in /usr/local/lib/python3.9/dist-packages (from python-dateutil>=2.5.3->ibm_watson) (1.16.0)\n",
      "Requirement already satisfied: certifi>=2017.4.17 in ./.local/lib/python3.9/site-packages (from requests<3.0,>=2.0->ibm_watson) (2022.12.7)\n",
      "Requirement already satisfied: charset-normalizer<4,>=2 in ./.local/lib/python3.9/site-packages (from requests<3.0,>=2.0->ibm_watson) (3.0.1)\n",
      "Requirement already satisfied: idna<4,>=2.5 in /usr/local/lib/python3.9/dist-packages (from requests<3.0,>=2.0->ibm_watson) (3.4)\n"
     ]
    }
   ],
   "source": [
    "!pip install ibm_watson"
   ]
  },
  {
   "cell_type": "code",
   "execution_count": 15,
   "id": "f5ba19cd",
   "metadata": {},
   "outputs": [],
   "source": [
    "apikey = \"NUfPBgish_yQoDkXTySg1myok5_-kGp1mWMq5G4C2qzd\"\n",
    "url = \"https://api.us-south.language-translator.watson.cloud.ibm.com/instances/591f6738-fe56-421c-af39-4c204cec0c91\""
   ]
  },
  {
   "cell_type": "code",
   "execution_count": 16,
   "id": "157bd11d",
   "metadata": {},
   "outputs": [],
   "source": [
    "from ibm_watson import LanguageTranslatorV3\n",
    "from ibm_cloud_sdk_core.authenticators import IAMAuthenticator"
   ]
  },
  {
   "cell_type": "code",
   "execution_count": 17,
   "id": "4278a253",
   "metadata": {},
   "outputs": [],
   "source": [
    "authenticator = IAMAuthenticator(apikey)\n",
    "lt = LanguageTranslatorV3(version=\"2018-05-01\", authenticator=authenticator)\n",
    "lt.set_service_url(url)"
   ]
  },
  {
   "cell_type": "code",
   "execution_count": 18,
   "id": "c9ee8052",
   "metadata": {},
   "outputs": [],
   "source": [
    "translation = lt.translate(text=\"Hello World\", model_id='en-de').get_result()"
   ]
  },
  {
   "cell_type": "code",
   "execution_count": 19,
   "id": "a936c633",
   "metadata": {},
   "outputs": [
    {
     "data": {
      "text/plain": [
       "{'translations': [{'translation': 'Hallo Welt'}],\n",
       " 'word_count': 2,\n",
       " 'character_count': 11}"
      ]
     },
     "execution_count": 19,
     "metadata": {},
     "output_type": "execute_result"
    }
   ],
   "source": [
    "translation"
   ]
  },
  {
   "cell_type": "code",
   "execution_count": 20,
   "id": "21f14c49",
   "metadata": {},
   "outputs": [
    {
     "data": {
      "text/plain": [
       "'Hallo Welt'"
      ]
     },
     "execution_count": 20,
     "metadata": {},
     "output_type": "execute_result"
    }
   ],
   "source": [
    "translation['translations'][0]['translation']"
   ]
  },
  {
   "cell_type": "code",
   "execution_count": 22,
   "id": "69479414",
   "metadata": {},
   "outputs": [
    {
     "ename": "NameError",
     "evalue": "name 'identify' is not defined",
     "output_type": "error",
     "traceback": [
      "\u001b[0;31m---------------------------------------------------------------------------\u001b[0m",
      "\u001b[0;31mNameError\u001b[0m                                 Traceback (most recent call last)",
      "Cell \u001b[0;32mIn[22], line 1\u001b[0m\n\u001b[0;32m----> 1\u001b[0m \u001b[43midentify\u001b[49m \n",
      "\u001b[0;31mNameError\u001b[0m: name 'identify' is not defined"
     ]
    }
   ],
   "source": [
    "#identify - shows what language text is in "
   ]
  },
  {
   "cell_type": "code",
   "execution_count": 23,
   "id": "7bc757a4",
   "metadata": {},
   "outputs": [],
   "source": [
    "language = lt.identify('This is a regular sentence').get_result()"
   ]
  },
  {
   "cell_type": "code",
   "execution_count": 24,
   "id": "4c8ee5ae",
   "metadata": {},
   "outputs": [
    {
     "data": {
      "text/plain": [
       "{'languages': [{'language': 'en', 'confidence': 0.9999238366566318},\n",
       "  {'language': 'pt', 'confidence': 4.005044167511229e-05},\n",
       "  {'language': 'ga', 'confidence': 1.3750945523875857e-05},\n",
       "  {'language': 'es', 'confidence': 8.174420730412144e-06},\n",
       "  {'language': 'hu', 'confidence': 4.826837883903297e-06},\n",
       "  {'language': 'ca', 'confidence': 3.4785371248872736e-06},\n",
       "  {'language': 'fr', 'confidence': 1.0350464141973596e-06},\n",
       "  {'language': 'ro', 'confidence': 9.821000081336056e-07},\n",
       "  {'language': 'nn', 'confidence': 7.673462608095881e-07},\n",
       "  {'language': 'tr', 'confidence': 5.281066290138447e-07},\n",
       "  {'language': 'eo', 'confidence': 4.071667521818072e-07},\n",
       "  {'language': 'af', 'confidence': 2.7199687890926896e-07},\n",
       "  {'language': 'nl', 'confidence': 2.3365009541177554e-07},\n",
       "  {'language': 'cs', 'confidence': 2.1162448809088937e-07},\n",
       "  {'language': 'mt', 'confidence': 2.0646062074212205e-07},\n",
       "  {'language': 'nb', 'confidence': 1.9693387610229642e-07},\n",
       "  {'language': 'it', 'confidence': 1.545439313871444e-07},\n",
       "  {'language': 'tl', 'confidence': 1.3165643104981597e-07},\n",
       "  {'language': 'ms', 'confidence': 1.2344577053248712e-07},\n",
       "  {'language': 'de', 'confidence': 9.723203392432982e-08},\n",
       "  {'language': 'sv', 'confidence': 9.585912461474915e-08},\n",
       "  {'language': 'sq', 'confidence': 4.4784314758509064e-08},\n",
       "  {'language': 'da', 'confidence': 4.26237246365949e-08},\n",
       "  {'language': 'sk', 'confidence': 3.930082978625861e-08},\n",
       "  {'language': 'ht', 'confidence': 3.5135291174681084e-08},\n",
       "  {'language': 'et', 'confidence': 3.3040629356155e-08},\n",
       "  {'language': 'cy', 'confidence': 3.1525318315276054e-08},\n",
       "  {'language': 'is', 'confidence': 2.687907645815074e-08},\n",
       "  {'language': 'pl', 'confidence': 2.468676468858108e-08},\n",
       "  {'language': 'lt', 'confidence': 2.459544205836846e-08},\n",
       "  {'language': 'lv', 'confidence': 2.2665281943604605e-08},\n",
       "  {'language': 'ku', 'confidence': 2.062774412610291e-08},\n",
       "  {'language': 'az', 'confidence': 1.9902354938529697e-08},\n",
       "  {'language': 'so', 'confidence': 1.5708820608188553e-08},\n",
       "  {'language': 'vi', 'confidence': 1.5469217953462115e-08},\n",
       "  {'language': 'sl', 'confidence': 1.3347110136474755e-08},\n",
       "  {'language': 'hr', 'confidence': 1.1408462506857013e-08},\n",
       "  {'language': 'eu', 'confidence': 9.585583488557315e-09},\n",
       "  {'language': 'fi', 'confidence': 2.1858861823568155e-09},\n",
       "  {'language': 'zh', 'confidence': 1.735760038126082e-09},\n",
       "  {'language': 'zh-TW', 'confidence': 1.4507423357683187e-09},\n",
       "  {'language': 'ja', 'confidence': 9.639784369198413e-10},\n",
       "  {'language': 'th', 'confidence': 3.394510770921741e-10},\n",
       "  {'language': 'ko', 'confidence': 3.0994912210040964e-10},\n",
       "  {'language': 'hi', 'confidence': 1.7250461630862403e-10},\n",
       "  {'language': 'el', 'confidence': 1.31672293807734e-10},\n",
       "  {'language': 'ur', 'confidence': 5.76440502773306e-11},\n",
       "  {'language': 'ru', 'confidence': 4.9943515381635774e-11},\n",
       "  {'language': 'mn', 'confidence': 4.261463474361038e-11},\n",
       "  {'language': 'my', 'confidence': 3.6879831672568955e-11},\n",
       "  {'language': 'ar', 'confidence': 2.500637082769779e-11},\n",
       "  {'language': 'km', 'confidence': 2.173757447041442e-11},\n",
       "  {'language': 'he', 'confidence': 1.6012787480449368e-11},\n",
       "  {'language': 'bn', 'confidence': 1.463766951815423e-11},\n",
       "  {'language': 'lo', 'confidence': 1.4533061401532162e-11},\n",
       "  {'language': 'mr', 'confidence': 1.3501421679310368e-11},\n",
       "  {'language': 'sr', 'confidence': 1.2103254811199021e-11},\n",
       "  {'language': 'ka', 'confidence': 1.1445589773105423e-11},\n",
       "  {'language': 'ta', 'confidence': 9.274783732159822e-12},\n",
       "  {'language': 'bg', 'confidence': 7.280398666323243e-12},\n",
       "  {'language': 'uk', 'confidence': 6.969780615502316e-12},\n",
       "  {'language': 'ml', 'confidence': 6.737912923375872e-12},\n",
       "  {'language': 'kk', 'confidence': 6.594890469237906e-12},\n",
       "  {'language': 'pa', 'confidence': 6.522295950197396e-12},\n",
       "  {'language': 'ps', 'confidence': 6.4503037693619655e-12},\n",
       "  {'language': 'ne', 'confidence': 6.202747071609098e-12},\n",
       "  {'language': 'hy', 'confidence': 6.1846117897878265e-12},\n",
       "  {'language': 'be', 'confidence': 5.8548588630261896e-12},\n",
       "  {'language': 'te', 'confidence': 5.625706704458467e-12},\n",
       "  {'language': 'fa', 'confidence': 5.363794208249115e-12},\n",
       "  {'language': 'pa-PK', 'confidence': 5.2985513962315964e-12},\n",
       "  {'language': 'ky', 'confidence': 5.1424302286914955e-12},\n",
       "  {'language': 'cv', 'confidence': 3.007349843487174e-12},\n",
       "  {'language': 'ba', 'confidence': 2.5335629227417994e-12},\n",
       "  {'language': 'gu', 'confidence': 2.4759563302802087e-12},\n",
       "  {'language': 'si', 'confidence': 1.62422132818065e-12}]}"
      ]
     },
     "execution_count": 24,
     "metadata": {},
     "output_type": "execute_result"
    }
   ],
   "source": [
    "language"
   ]
  },
  {
   "cell_type": "code",
   "execution_count": null,
   "id": "d424133b",
   "metadata": {},
   "outputs": [],
   "source": [
    "#AI Travel Guide - translates text to another language then says text "
   ]
  },
  {
   "cell_type": "code",
   "execution_count": 35,
   "id": "88f89255",
   "metadata": {},
   "outputs": [],
   "source": [
    "ttsapikey = \"aBWIK4aAOG-NE7gMVAN9azPT6IRIVqhhoab0XjKvo-mK\"\n",
    "ttsurl = \"https://api.us-south.text-to-speech.watson.cloud.ibm.com/instances/05d88abb-bf15-40c0-9b49-674820d1938e\""
   ]
  },
  {
   "cell_type": "code",
   "execution_count": 36,
   "id": "a50279c9",
   "metadata": {},
   "outputs": [],
   "source": [
    "from ibm_watson import TextToSpeechV1"
   ]
  },
  {
   "cell_type": "code",
   "execution_count": 37,
   "id": "cd169cc0",
   "metadata": {},
   "outputs": [],
   "source": [
    "# Authenticate\n",
    "ttsauthenticator = IAMAuthenticator(ttsapikey)\n",
    "tts = TextToSpeechV1(authenticator=ttsauthenticator)\n",
    "tts.set_service_url(ttsurl)"
   ]
  },
  {
   "cell_type": "code",
   "execution_count": 38,
   "id": "05318346",
   "metadata": {},
   "outputs": [],
   "source": [
    "translation = lt.translate(text=\"We are sinking\", model_id='en-de').get_result()"
   ]
  },
  {
   "cell_type": "code",
   "execution_count": 61,
   "id": "d34676fb",
   "metadata": {},
   "outputs": [
    {
     "data": {
      "text/plain": [
       "'Wir sinken'"
      ]
     },
     "execution_count": 61,
     "metadata": {},
     "output_type": "execute_result"
    }
   ],
   "source": [
    "text = translation['translations'][0]['translation']\n",
    "text"
   ]
  },
  {
   "cell_type": "code",
   "execution_count": 62,
   "id": "2169d318",
   "metadata": {},
   "outputs": [],
   "source": [
    "with open('./help.mp3', 'wb') as audio_file:\n",
    "    res = tts.synthesize(text, accept='audio/mp3', voice='de-DE_BirgitV3Voice').get_result()\n",
    "    audio_file.write(res.content)"
   ]
  }
 ],
 "metadata": {
  "kernelspec": {
   "display_name": "Python 3 (ipykernel)",
   "language": "python",
   "name": "python3"
  },
  "language_info": {
   "codemirror_mode": {
    "name": "ipython",
    "version": 3
   },
   "file_extension": ".py",
   "mimetype": "text/x-python",
   "name": "python",
   "nbconvert_exporter": "python",
   "pygments_lexer": "ipython3",
   "version": "3.9.2"
  }
 },
 "nbformat": 4,
 "nbformat_minor": 5
}
